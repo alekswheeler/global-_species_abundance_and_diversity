{
  "nbformat": 4,
  "nbformat_minor": 0,
  "metadata": {
    "colab": {
      "provenance": [],
      "toc_visible": true,
      "include_colab_link": true
    },
    "kernelspec": {
      "name": "python3",
      "display_name": "Python 3"
    },
    "language_info": {
      "name": "python"
    }
  },
  "cells": [
    {
      "cell_type": "markdown",
      "metadata": {
        "id": "view-in-github",
        "colab_type": "text"
      },
      "source": [
        "<a href=\"https://colab.research.google.com/github/alekswheeler/global-_species_abundance_and_diversity/blob/main/AquecimentoGlobalEAbumdanciaDeEspecies.ipynb\" target=\"_parent\"><img src=\"https://colab.research.google.com/assets/colab-badge.svg\" alt=\"Open In Colab\"/></a>"
      ]
    },
    {
      "cell_type": "markdown",
      "source": [
        "# Introdução"
      ],
      "metadata": {
        "id": "9_UcW8U0nmCw"
      }
    },
    {
      "cell_type": "markdown",
      "source": [
        "https://www.kaggle.com/datasets/thedevastator/global-species-abundance-and-diversity"
      ],
      "metadata": {
        "id": "p39aAMg3rAdm"
      }
    },
    {
      "cell_type": "markdown",
      "source": [
        "## Dependencies"
      ],
      "metadata": {
        "id": "0wo8wFHBrqtn"
      }
    },
    {
      "cell_type": "code",
      "source": [
        "import os\n",
        "import zipfile\n",
        "import requests\n",
        "\n",
        "# 🔗 URL do Dropbox (modificada para permitir download direto)\n",
        "dropbox_url = \"https://www.dropbox.com/s/z2govg67jp3jn75/archive.zip?dl=1\"\n",
        "\n",
        "# 📂 Nome do arquivo ZIP localmente no Colab\n",
        "zip_path = \"dataset.zip\"\n",
        "\n",
        "# ⬇️ Baixa o arquivo ZIP do Dropbox\n",
        "response = requests.get(dropbox_url)\n",
        "with open(zip_path, \"wb\") as f:\n",
        "    f.write(response.content)\n",
        "\n",
        "print(\"✅ Download concluído!\")\n",
        "\n",
        "# 📂 Pasta de extração\n",
        "extract_folder = \"/content/dataset_csvs\"\n",
        "os.makedirs(extract_folder, exist_ok=True)\n",
        "\n",
        "# 🔄 Extrai todos os arquivos CSV do ZIP\n",
        "with zipfile.ZipFile(zip_path, \"r\") as zip_ref:\n",
        "    zip_ref.extractall(extract_folder)\n",
        "\n",
        "# 🔍 Lista os arquivos extraídos\n",
        "csv_files = [f for f in os.listdir(extract_folder) if f.endswith(\".csv\")]\n",
        "\n",
        "print(\"\\n📂 Arquivos CSV extraídos:\")\n",
        "for file in csv_files:\n",
        "    print(f\"- {file}\")\n",
        "\n",
        "print(\"\\n✅ Extração concluída! Todos os CSVs estão em:\", extract_folder)\n"
      ],
      "metadata": {
        "id": "hewOunE7rh4I"
      },
      "execution_count": null,
      "outputs": []
    },
    {
      "cell_type": "code",
      "source": [
        "import pandas as pd\n",
        "\n",
        "csv_path = \"/content/dataset_csvs/SEU_ARQUIVO.csv\"  # Substitua pelo nome real do arquivo\n",
        "df = pd.read_csv(csv_path)\n",
        "\n",
        "print(df.head())  # Exibe as primeiras linhas\n"
      ],
      "metadata": {
        "id": "wvIfcIfCsYAp"
      },
      "execution_count": null,
      "outputs": []
    },
    {
      "cell_type": "markdown",
      "source": [
        "## Definição do problema"
      ],
      "metadata": {
        "id": "a0GdbM7VmyRP"
      }
    },
    {
      "cell_type": "markdown",
      "source": [
        "## Descrição do conjunto de dados"
      ],
      "metadata": {
        "id": "9f4M2l-nnwxo"
      }
    },
    {
      "cell_type": "markdown",
      "source": [
        "# Metodologia"
      ],
      "metadata": {
        "id": "aneFL7LaoJWS"
      }
    },
    {
      "cell_type": "markdown",
      "source": [
        "## Pré processamento"
      ],
      "metadata": {
        "id": "mb3i9KOel7bb"
      }
    },
    {
      "cell_type": "markdown",
      "source": [
        "## Visualização de dados"
      ],
      "metadata": {
        "id": "6lUTc5hol_8Z"
      }
    },
    {
      "cell_type": "markdown",
      "source": [
        "## Classificação"
      ],
      "metadata": {
        "id": "fQPxKRMTmMRD"
      }
    },
    {
      "cell_type": "markdown",
      "source": [
        "# Conclusão"
      ],
      "metadata": {
        "id": "2tjMqPnQo2UP"
      }
    },
    {
      "cell_type": "markdown",
      "source": [
        "## Discussãocação dos Resultados"
      ],
      "metadata": {
        "id": "scwWzZANmIZk"
      }
    },
    {
      "cell_type": "markdown",
      "source": [
        "# Video\n",
        "\n",
        "\n",
        "Um vídeo (de aproximadamente 5 minutos) descrevendo o trabalho e os resultados. Pretendo divulgar esse vídeo para os demais colegas da disciplina e para os professores do DI. **Os vídeos são apenas para facilitar a correção e não serão publicados!**"
      ],
      "metadata": {
        "id": "WmHK-4E8nJWG"
      }
    }
  ]
}