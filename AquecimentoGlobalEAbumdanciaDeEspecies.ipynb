{
  "nbformat": 4,
  "nbformat_minor": 0,
  "metadata": {
    "colab": {
      "provenance": [],
      "include_colab_link": true
    },
    "kernelspec": {
      "name": "python3",
      "display_name": "Python 3"
    },
    "language_info": {
      "name": "python"
    }
  },
  "cells": [
    {
      "cell_type": "markdown",
      "metadata": {
        "id": "view-in-github",
        "colab_type": "text"
      },
      "source": [
        "<a href=\"https://colab.research.google.com/github/alekswheeler/global-_species_abundance_and_diversity/blob/main/AquecimentoGlobalEAbumdanciaDeEspecies.ipynb\" target=\"_parent\"><img src=\"https://colab.research.google.com/assets/colab-badge.svg\" alt=\"Open In Colab\"/></a>"
      ]
    },
    {
      "cell_type": "markdown",
      "source": [
        "# Introdução"
      ],
      "metadata": {
        "id": "9_UcW8U0nmCw"
      }
    },
    {
      "cell_type": "markdown",
      "source": [
        "https://www.kaggle.com/datasets/thedevastator/global-species-abundance-and-diversity"
      ],
      "metadata": {
        "id": "p39aAMg3rAdm"
      }
    },
    {
      "cell_type": "markdown",
      "source": [
        "## Dependencies"
      ],
      "metadata": {
        "id": "0wo8wFHBrqtn"
      }
    },
    {
      "cell_type": "code",
      "source": [
        "import os\n",
        "import zipfile\n",
        "import requests\n",
        "\n",
        "# 🔗 URL do Dropbox (modificada para permitir download direto)\n",
        "dropbox_url = \"https://www.dropbox.com/s/z2govg67jp3jn75/archive.zip?dl=1\"\n",
        "\n",
        "# 📂 Nome do arquivo ZIP localmente no Colab\n",
        "zip_path = \"dataset.zip\"\n",
        "\n",
        "# ⬇️ Baixa o arquivo ZIP do Dropbox\n",
        "response = requests.get(dropbox_url)\n",
        "with open(zip_path, \"wb\") as f:\n",
        "    f.write(response.content)\n",
        "\n",
        "print(\"✅ Download concluído!\")\n",
        "\n",
        "# 📂 Pasta de extração\n",
        "extract_folder = \"/content/dataset_csvs\"\n",
        "os.makedirs(extract_folder, exist_ok=True)\n",
        "\n",
        "# 🔄 Extrai todos os arquivos CSV do ZIP\n",
        "with zipfile.ZipFile(zip_path, \"r\") as zip_ref:\n",
        "    zip_ref.extractall(extract_folder)\n",
        "\n",
        "# 🔍 Lista os arquivos extraídos\n",
        "csv_files = [f for f in os.listdir(extract_folder) if f.endswith(\".csv\")]\n",
        "\n",
        "print(\"\\n📂 Arquivos CSV extraídos:\")\n",
        "for file in csv_files:\n",
        "    print(f\"- {file}\")\n",
        "\n",
        "print(\"\\n✅ Extração concluída! Todos os CSVs estão em:\", extract_folder)\n"
      ],
      "metadata": {
        "id": "hewOunE7rh4I",
        "outputId": "75841028-33eb-4fa2-a5ff-88edf854a3e8",
        "colab": {
          "base_uri": "https://localhost:8080/"
        }
      },
      "execution_count": 1,
      "outputs": [
        {
          "output_type": "stream",
          "name": "stdout",
          "text": [
            "✅ Download concluído!\n",
            "\n",
            "📂 Arquivos CSV extraídos:\n",
            "- BioTIMEQuery_24_06_2021.csv\n",
            "- BioTIMEMetadata_24_06_2021.csv\n",
            "- BioTIMECitations_24_06_2021.csv\n",
            "\n",
            "✅ Extração concluída! Todos os CSVs estão em: /content/dataset_csvs\n"
          ]
        }
      ]
    },
    {
      "cell_type": "code",
      "source": [
        "import pandas as pd\n",
        "\n",
        "csv_path = \"/content/dataset_csvs/BioTIMEQuery_24_06_2021.csv\"  # Substitua pelo nome real do arquivo\n",
        "bio_time_query_df = pd.read_csv(csv_path)\n",
        "\n",
        "print(bio_time_query_df.head())  # Exibe as primeiras linhas"
      ],
      "metadata": {
        "id": "wvIfcIfCsYAp",
        "outputId": "799e6624-cc26-4e8a-9ab3-3455b2e7a362",
        "colab": {
          "base_uri": "https://localhost:8080/"
        }
      },
      "execution_count": 5,
      "outputs": [
        {
          "output_type": "stream",
          "name": "stderr",
          "text": [
            "<ipython-input-5-95ae8e61b6ab>:4: DtypeWarning: Columns (6) have mixed types. Specify dtype option on import or set low_memory=False.\n",
            "  bio_time_query_df = pd.read_csv(csv_path)\n"
          ]
        },
        {
          "output_type": "stream",
          "name": "stdout",
          "text": [
            "   Unnamed: 0  STUDY_ID  DAY  MONTH  YEAR  \\\n",
            "0           1        10  NaN    NaN  1984   \n",
            "1           2        10  NaN    NaN  1984   \n",
            "2           3        10  NaN    NaN  1984   \n",
            "3           4        10  NaN    NaN  1984   \n",
            "4           5        10  NaN    NaN  1984   \n",
            "\n",
            "                                SAMPLE_DESC PLOT  ID_SPECIES  LATITUDE  \\\n",
            "0  47.400000_-95.120000_12_Control_0_Medium   12          22      47.4   \n",
            "1  47.400000_-95.120000_12_Control_0_Medium   12          23      47.4   \n",
            "2  47.400000_-95.120000_12_Control_0_Medium   12          24      47.4   \n",
            "3  47.400000_-95.120000_12_Control_0_Medium   12         607      47.4   \n",
            "4   47.400000_-95.120000_12_Control_0_Small   12        1911      47.4   \n",
            "\n",
            "   LONGITUDE  sum.allrawdata.ABUNDANCE  sum.allrawdata.BIOMASS    GENUS  \\\n",
            "0     -95.12                       1.0                     0.0     Acer   \n",
            "1     -95.12                       3.0                     0.0     Acer   \n",
            "2     -95.12                       1.0                     0.0     Acer   \n",
            "3     -95.12                      12.0                     0.0  Corylus   \n",
            "4     -95.12                       1.0                     0.0  Populus   \n",
            "\n",
            "     SPECIES    GENUS_SPECIES  \n",
            "0     rubrum      Acer rubrum  \n",
            "1  saccharum   Acer saccharum  \n",
            "2   spicatum    Acer spicatum  \n",
            "3    cornuta  Corylus cornuta  \n",
            "4    pinnata  Populus pinnata  \n"
          ]
        }
      ]
    },
    {
      "cell_type": "code",
      "source": [
        "import pandas as pd\n",
        "\n",
        "csv_path = \"/content/dataset_csvs/BioTIMEMetadata_24_06_2021.csv\"  # Substitua pelo nome real do arquivo\n",
        "bio_time_metadata_df = pd.read_csv(csv_path)\n",
        "\n",
        "print(bio_time_metadata_df.head())  # Exibe as primeiras linhas"
      ],
      "metadata": {
        "id": "hidNq1wdt4Tv",
        "outputId": "f4d57e79-5e4c-4210-d483-91fb95df4ff0",
        "colab": {
          "base_uri": "https://localhost:8080/",
          "height": 547
        }
      },
      "execution_count": 6,
      "outputs": [
        {
          "output_type": "error",
          "ename": "UnicodeDecodeError",
          "evalue": "'utf-8' codec can't decode byte 0x92 in position 221216: invalid start byte",
          "traceback": [
            "\u001b[0;31m---------------------------------------------------------------------------\u001b[0m",
            "\u001b[0;31mUnicodeDecodeError\u001b[0m                        Traceback (most recent call last)",
            "\u001b[0;32m<ipython-input-6-ecf0a4d20cf7>\u001b[0m in \u001b[0;36m<cell line: 0>\u001b[0;34m()\u001b[0m\n\u001b[1;32m      2\u001b[0m \u001b[0;34m\u001b[0m\u001b[0m\n\u001b[1;32m      3\u001b[0m \u001b[0mcsv_path\u001b[0m \u001b[0;34m=\u001b[0m \u001b[0;34m\"/content/dataset_csvs/BioTIMEMetadata_24_06_2021.csv\"\u001b[0m  \u001b[0;31m# Substitua pelo nome real do arquivo\u001b[0m\u001b[0;34m\u001b[0m\u001b[0;34m\u001b[0m\u001b[0m\n\u001b[0;32m----> 4\u001b[0;31m \u001b[0mbio_time_metadata_df\u001b[0m \u001b[0;34m=\u001b[0m \u001b[0mpd\u001b[0m\u001b[0;34m.\u001b[0m\u001b[0mread_csv\u001b[0m\u001b[0;34m(\u001b[0m\u001b[0mcsv_path\u001b[0m\u001b[0;34m)\u001b[0m\u001b[0;34m\u001b[0m\u001b[0;34m\u001b[0m\u001b[0m\n\u001b[0m\u001b[1;32m      5\u001b[0m \u001b[0;34m\u001b[0m\u001b[0m\n\u001b[1;32m      6\u001b[0m \u001b[0mprint\u001b[0m\u001b[0;34m(\u001b[0m\u001b[0mbio_time_metadata_df\u001b[0m\u001b[0;34m.\u001b[0m\u001b[0mhead\u001b[0m\u001b[0;34m(\u001b[0m\u001b[0;34m)\u001b[0m\u001b[0;34m)\u001b[0m  \u001b[0;31m# Exibe as primeiras linhas\u001b[0m\u001b[0;34m\u001b[0m\u001b[0;34m\u001b[0m\u001b[0m\n",
            "\u001b[0;32m/usr/local/lib/python3.11/dist-packages/pandas/io/parsers/readers.py\u001b[0m in \u001b[0;36mread_csv\u001b[0;34m(filepath_or_buffer, sep, delimiter, header, names, index_col, usecols, dtype, engine, converters, true_values, false_values, skipinitialspace, skiprows, skipfooter, nrows, na_values, keep_default_na, na_filter, verbose, skip_blank_lines, parse_dates, infer_datetime_format, keep_date_col, date_parser, date_format, dayfirst, cache_dates, iterator, chunksize, compression, thousands, decimal, lineterminator, quotechar, quoting, doublequote, escapechar, comment, encoding, encoding_errors, dialect, on_bad_lines, delim_whitespace, low_memory, memory_map, float_precision, storage_options, dtype_backend)\u001b[0m\n\u001b[1;32m   1024\u001b[0m     \u001b[0mkwds\u001b[0m\u001b[0;34m.\u001b[0m\u001b[0mupdate\u001b[0m\u001b[0;34m(\u001b[0m\u001b[0mkwds_defaults\u001b[0m\u001b[0;34m)\u001b[0m\u001b[0;34m\u001b[0m\u001b[0;34m\u001b[0m\u001b[0m\n\u001b[1;32m   1025\u001b[0m \u001b[0;34m\u001b[0m\u001b[0m\n\u001b[0;32m-> 1026\u001b[0;31m     \u001b[0;32mreturn\u001b[0m \u001b[0m_read\u001b[0m\u001b[0;34m(\u001b[0m\u001b[0mfilepath_or_buffer\u001b[0m\u001b[0;34m,\u001b[0m \u001b[0mkwds\u001b[0m\u001b[0;34m)\u001b[0m\u001b[0;34m\u001b[0m\u001b[0;34m\u001b[0m\u001b[0m\n\u001b[0m\u001b[1;32m   1027\u001b[0m \u001b[0;34m\u001b[0m\u001b[0m\n\u001b[1;32m   1028\u001b[0m \u001b[0;34m\u001b[0m\u001b[0m\n",
            "\u001b[0;32m/usr/local/lib/python3.11/dist-packages/pandas/io/parsers/readers.py\u001b[0m in \u001b[0;36m_read\u001b[0;34m(filepath_or_buffer, kwds)\u001b[0m\n\u001b[1;32m    624\u001b[0m \u001b[0;34m\u001b[0m\u001b[0m\n\u001b[1;32m    625\u001b[0m     \u001b[0;32mwith\u001b[0m \u001b[0mparser\u001b[0m\u001b[0;34m:\u001b[0m\u001b[0;34m\u001b[0m\u001b[0;34m\u001b[0m\u001b[0m\n\u001b[0;32m--> 626\u001b[0;31m         \u001b[0;32mreturn\u001b[0m \u001b[0mparser\u001b[0m\u001b[0;34m.\u001b[0m\u001b[0mread\u001b[0m\u001b[0;34m(\u001b[0m\u001b[0mnrows\u001b[0m\u001b[0;34m)\u001b[0m\u001b[0;34m\u001b[0m\u001b[0;34m\u001b[0m\u001b[0m\n\u001b[0m\u001b[1;32m    627\u001b[0m \u001b[0;34m\u001b[0m\u001b[0m\n\u001b[1;32m    628\u001b[0m \u001b[0;34m\u001b[0m\u001b[0m\n",
            "\u001b[0;32m/usr/local/lib/python3.11/dist-packages/pandas/io/parsers/readers.py\u001b[0m in \u001b[0;36mread\u001b[0;34m(self, nrows)\u001b[0m\n\u001b[1;32m   1921\u001b[0m                     \u001b[0mcolumns\u001b[0m\u001b[0;34m,\u001b[0m\u001b[0;34m\u001b[0m\u001b[0;34m\u001b[0m\u001b[0m\n\u001b[1;32m   1922\u001b[0m                     \u001b[0mcol_dict\u001b[0m\u001b[0;34m,\u001b[0m\u001b[0;34m\u001b[0m\u001b[0;34m\u001b[0m\u001b[0m\n\u001b[0;32m-> 1923\u001b[0;31m                 \u001b[0;34m)\u001b[0m \u001b[0;34m=\u001b[0m \u001b[0mself\u001b[0m\u001b[0;34m.\u001b[0m\u001b[0m_engine\u001b[0m\u001b[0;34m.\u001b[0m\u001b[0mread\u001b[0m\u001b[0;34m(\u001b[0m  \u001b[0;31m# type: ignore[attr-defined]\u001b[0m\u001b[0;34m\u001b[0m\u001b[0;34m\u001b[0m\u001b[0m\n\u001b[0m\u001b[1;32m   1924\u001b[0m                     \u001b[0mnrows\u001b[0m\u001b[0;34m\u001b[0m\u001b[0;34m\u001b[0m\u001b[0m\n\u001b[1;32m   1925\u001b[0m                 )\n",
            "\u001b[0;32m/usr/local/lib/python3.11/dist-packages/pandas/io/parsers/c_parser_wrapper.py\u001b[0m in \u001b[0;36mread\u001b[0;34m(self, nrows)\u001b[0m\n\u001b[1;32m    232\u001b[0m         \u001b[0;32mtry\u001b[0m\u001b[0;34m:\u001b[0m\u001b[0;34m\u001b[0m\u001b[0;34m\u001b[0m\u001b[0m\n\u001b[1;32m    233\u001b[0m             \u001b[0;32mif\u001b[0m \u001b[0mself\u001b[0m\u001b[0;34m.\u001b[0m\u001b[0mlow_memory\u001b[0m\u001b[0;34m:\u001b[0m\u001b[0;34m\u001b[0m\u001b[0;34m\u001b[0m\u001b[0m\n\u001b[0;32m--> 234\u001b[0;31m                 \u001b[0mchunks\u001b[0m \u001b[0;34m=\u001b[0m \u001b[0mself\u001b[0m\u001b[0;34m.\u001b[0m\u001b[0m_reader\u001b[0m\u001b[0;34m.\u001b[0m\u001b[0mread_low_memory\u001b[0m\u001b[0;34m(\u001b[0m\u001b[0mnrows\u001b[0m\u001b[0;34m)\u001b[0m\u001b[0;34m\u001b[0m\u001b[0;34m\u001b[0m\u001b[0m\n\u001b[0m\u001b[1;32m    235\u001b[0m                 \u001b[0;31m# destructive to chunks\u001b[0m\u001b[0;34m\u001b[0m\u001b[0;34m\u001b[0m\u001b[0m\n\u001b[1;32m    236\u001b[0m                 \u001b[0mdata\u001b[0m \u001b[0;34m=\u001b[0m \u001b[0m_concatenate_chunks\u001b[0m\u001b[0;34m(\u001b[0m\u001b[0mchunks\u001b[0m\u001b[0;34m)\u001b[0m\u001b[0;34m\u001b[0m\u001b[0;34m\u001b[0m\u001b[0m\n",
            "\u001b[0;32mparsers.pyx\u001b[0m in \u001b[0;36mpandas._libs.parsers.TextReader.read_low_memory\u001b[0;34m()\u001b[0m\n",
            "\u001b[0;32mparsers.pyx\u001b[0m in \u001b[0;36mpandas._libs.parsers.TextReader._read_rows\u001b[0;34m()\u001b[0m\n",
            "\u001b[0;32mparsers.pyx\u001b[0m in \u001b[0;36mpandas._libs.parsers.TextReader._tokenize_rows\u001b[0;34m()\u001b[0m\n",
            "\u001b[0;32mparsers.pyx\u001b[0m in \u001b[0;36mpandas._libs.parsers.TextReader._check_tokenize_status\u001b[0;34m()\u001b[0m\n",
            "\u001b[0;32mparsers.pyx\u001b[0m in \u001b[0;36mpandas._libs.parsers.raise_parser_error\u001b[0;34m()\u001b[0m\n",
            "\u001b[0;31mUnicodeDecodeError\u001b[0m: 'utf-8' codec can't decode byte 0x92 in position 221216: invalid start byte"
          ]
        }
      ]
    },
    {
      "cell_type": "code",
      "source": [
        "import pandas as pd\n",
        "\n",
        "csv_path = \"/content/dataset_csvs/BioTIMECitations_24_06_2021.csv\"  # Substitua pelo nome real do arquivo\n",
        "bio_time_citations = pd.read_csv(csv_path)\n",
        "\n",
        "print(bio_time_citations.head())  # Exibe as primeiras linhas"
      ],
      "metadata": {
        "id": "pJQC_duWt582"
      },
      "execution_count": null,
      "outputs": []
    },
    {
      "cell_type": "markdown",
      "source": [
        "## Definição do problema"
      ],
      "metadata": {
        "id": "a0GdbM7VmyRP"
      }
    },
    {
      "cell_type": "markdown",
      "source": [
        "## Descrição do conjunto de dados"
      ],
      "metadata": {
        "id": "9f4M2l-nnwxo"
      }
    },
    {
      "cell_type": "markdown",
      "source": [
        "# Metodologia"
      ],
      "metadata": {
        "id": "aneFL7LaoJWS"
      }
    },
    {
      "cell_type": "markdown",
      "source": [
        "## Pré processamento"
      ],
      "metadata": {
        "id": "mb3i9KOel7bb"
      }
    },
    {
      "cell_type": "markdown",
      "source": [
        "## Visualização de dados"
      ],
      "metadata": {
        "id": "6lUTc5hol_8Z"
      }
    },
    {
      "cell_type": "markdown",
      "source": [
        "## Classificação"
      ],
      "metadata": {
        "id": "fQPxKRMTmMRD"
      }
    },
    {
      "cell_type": "markdown",
      "source": [
        "# Conclusão"
      ],
      "metadata": {
        "id": "2tjMqPnQo2UP"
      }
    },
    {
      "cell_type": "markdown",
      "source": [
        "## Discussãocação dos Resultados"
      ],
      "metadata": {
        "id": "scwWzZANmIZk"
      }
    },
    {
      "cell_type": "markdown",
      "source": [
        "# Video\n",
        "\n",
        "\n",
        "Um vídeo (de aproximadamente 5 minutos) descrevendo o trabalho e os resultados. Pretendo divulgar esse vídeo para os demais colegas da disciplina e para os professores do DI. **Os vídeos são apenas para facilitar a correção e não serão publicados!**"
      ],
      "metadata": {
        "id": "WmHK-4E8nJWG"
      }
    }
  ]
}