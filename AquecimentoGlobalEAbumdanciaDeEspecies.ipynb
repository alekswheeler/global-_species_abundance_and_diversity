{
  "nbformat": 4,
  "nbformat_minor": 0,
  "metadata": {
    "colab": {
      "provenance": [],
      "include_colab_link": true
    },
    "kernelspec": {
      "name": "python3",
      "display_name": "Python 3"
    },
    "language_info": {
      "name": "python"
    }
  },
  "cells": [
    {
      "cell_type": "markdown",
      "metadata": {
        "id": "view-in-github",
        "colab_type": "text"
      },
      "source": [
        "<a href=\"https://colab.research.google.com/github/alekswheeler/global-_species_abundance_and_diversity/blob/main/AquecimentoGlobalEAbumdanciaDeEspecies.ipynb\" target=\"_parent\"><img src=\"https://colab.research.google.com/assets/colab-badge.svg\" alt=\"Open In Colab\"/></a>"
      ]
    },
    {
      "cell_type": "markdown",
      "source": [
        "# Introdução"
      ],
      "metadata": {
        "id": "9_UcW8U0nmCw"
      }
    },
    {
      "cell_type": "markdown",
      "source": [
        "<p>We describe below the data and provide an overview of the specific variables that are constructed for the analysis in the paper entitled, “Estimating Extinction Risks with Species Occurrence Data from the Global Biodiversity Information Facility” by Susmita Dasgupta, Brian Blankespoor, and David Wheeler (2024).</p><p><br></p><p><strong>Variables:</strong></p><p><u>Species</u></p><p>·&nbsp;&nbsp;&nbsp;&nbsp;&nbsp;&nbsp;species = species with occurrence data. GBIF and authors’ calculation.</p><p>·&nbsp;&nbsp;&nbsp;&nbsp;&nbsp;&nbsp;d_assignedrisk = GBIF species with IUCN Red-List (Version 2022-2). Yes==1, No==0</p><p><u>Threats</u></p><p>·&nbsp;&nbsp;&nbsp;&nbsp;&nbsp;&nbsp;parkpct = formal protection index. To compute the formal protection index <em>parkpct</em>, we have transformed the shapefile from the World Database of Protected Areas (UNEP-WCMC 2019) (which includes 283,568 polygons) into a global raster with a resolution of .05 decimal degrees (about 5 km). Each raster cell has value 1 if it includes a protected area and 0 otherwise.</p><p>·&nbsp;&nbsp;&nbsp;&nbsp;&nbsp;&nbsp;popdens = population density. We measure density with a spatial raster at 2.5 min resolution (.042 decimal degrees) from the Gridded Population of the World (GPW), v4 (SEDAC/CIESIN, 2023). Using the previously-described population raster, we assign each terrestrial raster cell to one of 15 scaled population group <em>Popdens</em>.</p><p>·&nbsp;&nbsp;&nbsp;&nbsp;&nbsp;&nbsp;eezpct = percent of the total occurrence area of a species that lies within an EEZ. We employ the Extended Economic Zones (EEZ) boundary shapefile from the Maritime Regions Geodatabase maintained by the Flanders Marine Institute (2019). For each species, we construct an EEZ coverage index as the percent of its total occurrence area that lies within an EEZ : <em>eezpct</em>.</p><p>·&nbsp;&nbsp;&nbsp;&nbsp;&nbsp;&nbsp;popshadow = Coastal Population Influence. We have constructed a general index of population influence with a spatial kriging algorithm that replaces offshore missing values in our global terrestrial population raster with projected values from proximate onshore populations.</p><p>·&nbsp;&nbsp;&nbsp;&nbsp;&nbsp;&nbsp;totfishing = total fishing intensity [Fishing Intensity (1)]. AIS-Based (Automatic Identification System) Global Fishing Effort from Global Fishing Watch (e.g. Kroodsma et al. 2018).</p><p>·&nbsp;&nbsp;&nbsp;&nbsp;&nbsp;&nbsp;natfishing = nature total fishing intensity [Fishing Intensity (2)]. The estimates of fishing intensity are from high-resolution satellite imagery from Global Fishing Watch along with collaboration with several research institutions (Paolo et al. 2024).</p><p>·&nbsp;&nbsp;&nbsp;&nbsp;&nbsp;&nbsp;pthreat = predicted threat probability index (0-100).</p><p>·&nbsp;&nbsp;&nbsp;&nbsp;&nbsp;&nbsp;popgroupmax = Max population group (1:15)</p><p><br></p><p><u>References:</u></p><p>Dasgupta, S., B. Blankespoor, and D. Wheeler. 2023. Revisiting Global Biodiversity:&nbsp;A Spatial Analysis of Species Occurrence Data from the Global Biodiversity Information Facility.&nbsp;World Bank, September.</p><p>Flanders Marine Institute. 2019. Maritime Boundaries Geodatabase: Maritime Boundaries and Exclusive Economic Zones (200NM), version 11. Available online at https://www.marineregions.org/. <a href=\"https://doi.org/10.14284/386\" rel=\"noopener noreferrer\" target=\"_blank\">https://doi.org/10.14284/386</a></p><p>Global Fishing Watch. https://globalfishingwatch.org/dataset-and-code-fishing-effort/</p><p>Kroodsma, D. A., Mayorga, J., Hochberg, T., Miller, N. A., Boerder, K., Ferretti, F., ... &amp; Worm, B. (2018). Tracking the global footprint of fisheries.&nbsp;<em>Science</em>,&nbsp;<em>359</em>(6378), 904-908.</p><p>&nbsp;</p><p>IUCN. 2022.&nbsp;The IUCN Red List of Threatened Species. Version 2022-2. <a href=\"https://www.iucnredlist.org/\" rel=\"noopener noreferrer\" target=\"_blank\">https://www.iucnredlist.org</a>. Accessed on [9 May 2023] at <a href=\"https://doi.org/10.15468/0qnb58\" rel=\"noopener noreferrer\" target=\"_blank\">https://doi.org/10.15468/0qnb58</a></p><p>&nbsp;</p><p>SEDAC/CIESIN (NASA Socioeconomic Data and Applications Center/Center for International Earth Science Information Network, Columbia University). 2023. gpw_v4_population_count_adjusted_to_2015_unwpp_country_totals_rev11_2020_2pt5_min.tif</p><p>&nbsp;</p><p>Paolo, F., D. Kroodsma, J. Raynor et al. 2024. Satellite mapping reveals extensive industrial activity at sea.&nbsp;Nature, 625: 85–91.</p><p>UNEP-WCMC. 2019. User Manual for the World Database on Protected Areas and world database on other effective area-based conservation measures: 1.6. UNEP-WCMC: Cambridge, UK. Available at: http://wcmc.io/WDPA_Manual</p>"
      ],
      "metadata": {
        "id": "-iLbWIpu3P9K"
      }
    },
    {
      "cell_type": "markdown",
      "source": [
        "TODO:\n",
        "\n",
        "  * Entender nosso conjunto de dados\n",
        "\n",
        "    para ver se tem fit com o problema que queremos tratar\n",
        "    \n",
        "  * Definir o problema\n",
        "\n",
        "Tarefas: Achar uma maneira de incrementar os nossos dados através do GBIF (dados temporais ou ocorrência por ano)\n"
      ],
      "metadata": {
        "id": "T0qRZedhnVIe"
      }
    },
    {
      "cell_type": "markdown",
      "source": [
        "## Definição do problema"
      ],
      "metadata": {
        "id": "a0GdbM7VmyRP"
      }
    },
    {
      "cell_type": "markdown",
      "source": [
        "## Descrição do conjunto de dados"
      ],
      "metadata": {
        "id": "9f4M2l-nnwxo"
      }
    },
    {
      "cell_type": "code",
      "source": [
        "import os\n",
        "import zipfile\n",
        "import requests\n",
        "\n",
        "# 🔗 URL do Dropbox (modificada para permitir download direto)\n",
        "dropbox_url = \"https://www.dropbox.com/s/z2govg67jp3jn75/archive.zip?dl=1\"\n",
        "\n",
        "# 📂 Nome do arquivo ZIP localmente no Colab\n",
        "zip_path = \"dataset.zip\"\n",
        "\n",
        "# ⬇️ Baixa o arquivo ZIP do Dropbox\n",
        "response = requests.get(dropbox_url)\n",
        "with open(zip_path, \"wb\") as f:\n",
        "    f.write(response.content)\n",
        "\n",
        "print(\"✅ Download concluído!\")\n",
        "\n",
        "# 📂 Pasta de extração\n",
        "extract_folder = \"/content/dataset_csvs\"\n",
        "os.makedirs(extract_folder, exist_ok=True)\n",
        "\n",
        "# 🔄 Extrai todos os arquivos CSV do ZIP\n",
        "with zipfile.ZipFile(zip_path, \"r\") as zip_ref:\n",
        "    zip_ref.extractall(extract_folder)\n",
        "\n",
        "# 🔍 Lista os arquivos extraídos\n",
        "csv_files = [f for f in os.listdir(extract_folder) if f.endswith(\".csv\")]\n",
        "\n",
        "print(\"\\n📂 Arquivos CSV extraídos:\")\n",
        "for file in csv_files:\n",
        "    print(f\"- {file}\")\n",
        "\n",
        "print(\"\\n✅ Extração concluída! Todos os CSVs estão em:\", extract_folder)\n"
      ],
      "metadata": {
        "id": "hewOunE7rh4I",
        "outputId": "4033cf9c-990a-4cda-c37a-72e6ffd4561c",
        "colab": {
          "base_uri": "https://localhost:8080/"
        }
      },
      "execution_count": 1,
      "outputs": [
        {
          "output_type": "stream",
          "name": "stdout",
          "text": [
            "✅ Download concluído!\n",
            "\n",
            "📂 Arquivos CSV extraídos:\n",
            "- BioTIMECitations_24_06_2021.csv\n",
            "- BioTIMEMetadata_24_06_2021.csv\n",
            "- BioTIMEQuery_24_06_2021.csv\n",
            "\n",
            "✅ Extração concluída! Todos os CSVs estão em: /content/dataset_csvs\n"
          ]
        }
      ]
    },
    {
      "cell_type": "code",
      "source": [
        "with open(\"/content/dataset_csvs/BioTIMEMetadata_24_06_2021.csv\", \"rb\") as f:\n",
        "    result = chardet.detect(f.read(100000))  # Lê os primeiros 100 KB\n",
        "    print(result[\"encoding\"])"
      ],
      "metadata": {
        "id": "eSluREwzqbGX",
        "outputId": "f9a5abe9-3711-4a3c-9649-951b8c3f39f1",
        "colab": {
          "base_uri": "https://localhost:8080/"
        }
      },
      "execution_count": 10,
      "outputs": [
        {
          "output_type": "stream",
          "name": "stdout",
          "text": [
            "ascii\n"
          ]
        }
      ]
    },
    {
      "cell_type": "code",
      "source": [
        "import pandas as pd\n",
        "\n",
        "csv_path = \"/content/dataset_csvs/BioTIMEQuery_24_06_2021.csv\"  # Substitua pelo nome real do arquivo\n",
        "bio_time_query_df = pd.read_csv(csv_path)\n",
        "\n",
        "print(bio_time_query_df.head())  # Exibe as primeiras linhas"
      ],
      "metadata": {
        "id": "wvIfcIfCsYAp",
        "outputId": "71364699-bdce-45ae-f0ef-07e8a4eb10b8",
        "colab": {
          "base_uri": "https://localhost:8080/"
        }
      },
      "execution_count": 2,
      "outputs": [
        {
          "output_type": "stream",
          "name": "stderr",
          "text": [
            "<ipython-input-2-95ae8e61b6ab>:4: DtypeWarning: Columns (6) have mixed types. Specify dtype option on import or set low_memory=False.\n",
            "  bio_time_query_df = pd.read_csv(csv_path)\n"
          ]
        },
        {
          "output_type": "stream",
          "name": "stdout",
          "text": [
            "   Unnamed: 0  STUDY_ID  DAY  MONTH  YEAR  \\\n",
            "0           1        10  NaN    NaN  1984   \n",
            "1           2        10  NaN    NaN  1984   \n",
            "2           3        10  NaN    NaN  1984   \n",
            "3           4        10  NaN    NaN  1984   \n",
            "4           5        10  NaN    NaN  1984   \n",
            "\n",
            "                                SAMPLE_DESC PLOT  ID_SPECIES  LATITUDE  \\\n",
            "0  47.400000_-95.120000_12_Control_0_Medium   12          22      47.4   \n",
            "1  47.400000_-95.120000_12_Control_0_Medium   12          23      47.4   \n",
            "2  47.400000_-95.120000_12_Control_0_Medium   12          24      47.4   \n",
            "3  47.400000_-95.120000_12_Control_0_Medium   12         607      47.4   \n",
            "4   47.400000_-95.120000_12_Control_0_Small   12        1911      47.4   \n",
            "\n",
            "   LONGITUDE  sum.allrawdata.ABUNDANCE  sum.allrawdata.BIOMASS    GENUS  \\\n",
            "0     -95.12                       1.0                     0.0     Acer   \n",
            "1     -95.12                       3.0                     0.0     Acer   \n",
            "2     -95.12                       1.0                     0.0     Acer   \n",
            "3     -95.12                      12.0                     0.0  Corylus   \n",
            "4     -95.12                       1.0                     0.0  Populus   \n",
            "\n",
            "     SPECIES    GENUS_SPECIES  \n",
            "0     rubrum      Acer rubrum  \n",
            "1  saccharum   Acer saccharum  \n",
            "2   spicatum    Acer spicatum  \n",
            "3    cornuta  Corylus cornuta  \n",
            "4    pinnata  Populus pinnata  \n"
          ]
        }
      ]
    },
    {
      "cell_type": "code",
      "source": [
        "import pandas as pd\n",
        "\n",
        "csv_path = \"/content/dataset_csvs/BioTIMEMetadata_24_06_2021.csv\"  # Substitua pelo nome real do arquivo\n",
        "bio_time_metadata_df = pd.read_csv(csv_path)\n",
        "\n",
        "print(bio_time_metadata_df.head())  # Exibe as primeiras linhas"
      ],
      "metadata": {
        "id": "hidNq1wdt4Tv",
        "outputId": "0a0530c6-28a7-463e-c40c-47169aa75afe",
        "colab": {
          "base_uri": "https://localhost:8080/",
          "height": 530
        }
      },
      "execution_count": 3,
      "outputs": [
        {
          "output_type": "error",
          "ename": "UnicodeDecodeError",
          "evalue": "'utf-8' codec can't decode byte 0x92 in position 221216: invalid start byte",
          "traceback": [
            "\u001b[0;31m---------------------------------------------------------------------------\u001b[0m",
            "\u001b[0;31mUnicodeDecodeError\u001b[0m                        Traceback (most recent call last)",
            "\u001b[0;32m<ipython-input-3-ecf0a4d20cf7>\u001b[0m in \u001b[0;36m<cell line: 0>\u001b[0;34m()\u001b[0m\n\u001b[1;32m      2\u001b[0m \u001b[0;34m\u001b[0m\u001b[0m\n\u001b[1;32m      3\u001b[0m \u001b[0mcsv_path\u001b[0m \u001b[0;34m=\u001b[0m \u001b[0;34m\"/content/dataset_csvs/BioTIMEMetadata_24_06_2021.csv\"\u001b[0m  \u001b[0;31m# Substitua pelo nome real do arquivo\u001b[0m\u001b[0;34m\u001b[0m\u001b[0;34m\u001b[0m\u001b[0m\n\u001b[0;32m----> 4\u001b[0;31m \u001b[0mbio_time_metadata_df\u001b[0m \u001b[0;34m=\u001b[0m \u001b[0mpd\u001b[0m\u001b[0;34m.\u001b[0m\u001b[0mread_csv\u001b[0m\u001b[0;34m(\u001b[0m\u001b[0mcsv_path\u001b[0m\u001b[0;34m)\u001b[0m\u001b[0;34m\u001b[0m\u001b[0;34m\u001b[0m\u001b[0m\n\u001b[0m\u001b[1;32m      5\u001b[0m \u001b[0;34m\u001b[0m\u001b[0m\n\u001b[1;32m      6\u001b[0m \u001b[0mprint\u001b[0m\u001b[0;34m(\u001b[0m\u001b[0mbio_time_metadata_df\u001b[0m\u001b[0;34m.\u001b[0m\u001b[0mhead\u001b[0m\u001b[0;34m(\u001b[0m\u001b[0;34m)\u001b[0m\u001b[0;34m)\u001b[0m  \u001b[0;31m# Exibe as primeiras linhas\u001b[0m\u001b[0;34m\u001b[0m\u001b[0;34m\u001b[0m\u001b[0m\n",
            "\u001b[0;32m/usr/local/lib/python3.11/dist-packages/pandas/io/parsers/readers.py\u001b[0m in \u001b[0;36mread_csv\u001b[0;34m(filepath_or_buffer, sep, delimiter, header, names, index_col, usecols, dtype, engine, converters, true_values, false_values, skipinitialspace, skiprows, skipfooter, nrows, na_values, keep_default_na, na_filter, verbose, skip_blank_lines, parse_dates, infer_datetime_format, keep_date_col, date_parser, date_format, dayfirst, cache_dates, iterator, chunksize, compression, thousands, decimal, lineterminator, quotechar, quoting, doublequote, escapechar, comment, encoding, encoding_errors, dialect, on_bad_lines, delim_whitespace, low_memory, memory_map, float_precision, storage_options, dtype_backend)\u001b[0m\n\u001b[1;32m   1024\u001b[0m     \u001b[0mkwds\u001b[0m\u001b[0;34m.\u001b[0m\u001b[0mupdate\u001b[0m\u001b[0;34m(\u001b[0m\u001b[0mkwds_defaults\u001b[0m\u001b[0;34m)\u001b[0m\u001b[0;34m\u001b[0m\u001b[0;34m\u001b[0m\u001b[0m\n\u001b[1;32m   1025\u001b[0m \u001b[0;34m\u001b[0m\u001b[0m\n\u001b[0;32m-> 1026\u001b[0;31m     \u001b[0;32mreturn\u001b[0m \u001b[0m_read\u001b[0m\u001b[0;34m(\u001b[0m\u001b[0mfilepath_or_buffer\u001b[0m\u001b[0;34m,\u001b[0m \u001b[0mkwds\u001b[0m\u001b[0;34m)\u001b[0m\u001b[0;34m\u001b[0m\u001b[0;34m\u001b[0m\u001b[0m\n\u001b[0m\u001b[1;32m   1027\u001b[0m \u001b[0;34m\u001b[0m\u001b[0m\n\u001b[1;32m   1028\u001b[0m \u001b[0;34m\u001b[0m\u001b[0m\n",
            "\u001b[0;32m/usr/local/lib/python3.11/dist-packages/pandas/io/parsers/readers.py\u001b[0m in \u001b[0;36m_read\u001b[0;34m(filepath_or_buffer, kwds)\u001b[0m\n\u001b[1;32m    624\u001b[0m \u001b[0;34m\u001b[0m\u001b[0m\n\u001b[1;32m    625\u001b[0m     \u001b[0;32mwith\u001b[0m \u001b[0mparser\u001b[0m\u001b[0;34m:\u001b[0m\u001b[0;34m\u001b[0m\u001b[0;34m\u001b[0m\u001b[0m\n\u001b[0;32m--> 626\u001b[0;31m         \u001b[0;32mreturn\u001b[0m \u001b[0mparser\u001b[0m\u001b[0;34m.\u001b[0m\u001b[0mread\u001b[0m\u001b[0;34m(\u001b[0m\u001b[0mnrows\u001b[0m\u001b[0;34m)\u001b[0m\u001b[0;34m\u001b[0m\u001b[0;34m\u001b[0m\u001b[0m\n\u001b[0m\u001b[1;32m    627\u001b[0m \u001b[0;34m\u001b[0m\u001b[0m\n\u001b[1;32m    628\u001b[0m \u001b[0;34m\u001b[0m\u001b[0m\n",
            "\u001b[0;32m/usr/local/lib/python3.11/dist-packages/pandas/io/parsers/readers.py\u001b[0m in \u001b[0;36mread\u001b[0;34m(self, nrows)\u001b[0m\n\u001b[1;32m   1921\u001b[0m                     \u001b[0mcolumns\u001b[0m\u001b[0;34m,\u001b[0m\u001b[0;34m\u001b[0m\u001b[0;34m\u001b[0m\u001b[0m\n\u001b[1;32m   1922\u001b[0m                     \u001b[0mcol_dict\u001b[0m\u001b[0;34m,\u001b[0m\u001b[0;34m\u001b[0m\u001b[0;34m\u001b[0m\u001b[0m\n\u001b[0;32m-> 1923\u001b[0;31m                 \u001b[0;34m)\u001b[0m \u001b[0;34m=\u001b[0m \u001b[0mself\u001b[0m\u001b[0;34m.\u001b[0m\u001b[0m_engine\u001b[0m\u001b[0;34m.\u001b[0m\u001b[0mread\u001b[0m\u001b[0;34m(\u001b[0m  \u001b[0;31m# type: ignore[attr-defined]\u001b[0m\u001b[0;34m\u001b[0m\u001b[0;34m\u001b[0m\u001b[0m\n\u001b[0m\u001b[1;32m   1924\u001b[0m                     \u001b[0mnrows\u001b[0m\u001b[0;34m\u001b[0m\u001b[0;34m\u001b[0m\u001b[0m\n\u001b[1;32m   1925\u001b[0m                 )\n",
            "\u001b[0;32m/usr/local/lib/python3.11/dist-packages/pandas/io/parsers/c_parser_wrapper.py\u001b[0m in \u001b[0;36mread\u001b[0;34m(self, nrows)\u001b[0m\n\u001b[1;32m    232\u001b[0m         \u001b[0;32mtry\u001b[0m\u001b[0;34m:\u001b[0m\u001b[0;34m\u001b[0m\u001b[0;34m\u001b[0m\u001b[0m\n\u001b[1;32m    233\u001b[0m             \u001b[0;32mif\u001b[0m \u001b[0mself\u001b[0m\u001b[0;34m.\u001b[0m\u001b[0mlow_memory\u001b[0m\u001b[0;34m:\u001b[0m\u001b[0;34m\u001b[0m\u001b[0;34m\u001b[0m\u001b[0m\n\u001b[0;32m--> 234\u001b[0;31m                 \u001b[0mchunks\u001b[0m \u001b[0;34m=\u001b[0m \u001b[0mself\u001b[0m\u001b[0;34m.\u001b[0m\u001b[0m_reader\u001b[0m\u001b[0;34m.\u001b[0m\u001b[0mread_low_memory\u001b[0m\u001b[0;34m(\u001b[0m\u001b[0mnrows\u001b[0m\u001b[0;34m)\u001b[0m\u001b[0;34m\u001b[0m\u001b[0;34m\u001b[0m\u001b[0m\n\u001b[0m\u001b[1;32m    235\u001b[0m                 \u001b[0;31m# destructive to chunks\u001b[0m\u001b[0;34m\u001b[0m\u001b[0;34m\u001b[0m\u001b[0m\n\u001b[1;32m    236\u001b[0m                 \u001b[0mdata\u001b[0m \u001b[0;34m=\u001b[0m \u001b[0m_concatenate_chunks\u001b[0m\u001b[0;34m(\u001b[0m\u001b[0mchunks\u001b[0m\u001b[0;34m)\u001b[0m\u001b[0;34m\u001b[0m\u001b[0;34m\u001b[0m\u001b[0m\n",
            "\u001b[0;32mparsers.pyx\u001b[0m in \u001b[0;36mpandas._libs.parsers.TextReader.read_low_memory\u001b[0;34m()\u001b[0m\n",
            "\u001b[0;32mparsers.pyx\u001b[0m in \u001b[0;36mpandas._libs.parsers.TextReader._read_rows\u001b[0;34m()\u001b[0m\n",
            "\u001b[0;32mparsers.pyx\u001b[0m in \u001b[0;36mpandas._libs.parsers.TextReader._tokenize_rows\u001b[0;34m()\u001b[0m\n",
            "\u001b[0;32mparsers.pyx\u001b[0m in \u001b[0;36mpandas._libs.parsers.TextReader._check_tokenize_status\u001b[0;34m()\u001b[0m\n",
            "\u001b[0;32mparsers.pyx\u001b[0m in \u001b[0;36mpandas._libs.parsers.raise_parser_error\u001b[0;34m()\u001b[0m\n",
            "\u001b[0;31mUnicodeDecodeError\u001b[0m: 'utf-8' codec can't decode byte 0x92 in position 221216: invalid start byte"
          ]
        }
      ]
    },
    {
      "cell_type": "markdown",
      "source": [
        "# Metodologia"
      ],
      "metadata": {
        "id": "aneFL7LaoJWS"
      }
    },
    {
      "cell_type": "markdown",
      "source": [
        "## Pré processamento"
      ],
      "metadata": {
        "id": "mb3i9KOel7bb"
      }
    },
    {
      "cell_type": "markdown",
      "source": [
        "## Visualização de dados"
      ],
      "metadata": {
        "id": "6lUTc5hol_8Z"
      }
    },
    {
      "cell_type": "markdown",
      "source": [
        "## Classificação"
      ],
      "metadata": {
        "id": "fQPxKRMTmMRD"
      }
    },
    {
      "cell_type": "markdown",
      "source": [
        "# Conclusão"
      ],
      "metadata": {
        "id": "2tjMqPnQo2UP"
      }
    },
    {
      "cell_type": "markdown",
      "source": [
        "## Discussãocação dos Resultados"
      ],
      "metadata": {
        "id": "scwWzZANmIZk"
      }
    },
    {
      "cell_type": "markdown",
      "source": [
        "# Video\n",
        "\n",
        "\n",
        "Um vídeo (de aproximadamente 5 minutos) descrevendo o trabalho e os resultados. Pretendo divulgar esse vídeo para os demais colegas da disciplina e para os professores do DI. **Os vídeos são apenas para facilitar a correção e não serão publicados!**"
      ],
      "metadata": {
        "id": "WmHK-4E8nJWG"
      }
    },
    {
      "cell_type": "markdown",
      "source": [
        "# Referências"
      ],
      "metadata": {
        "id": "cSZZsRj0nvHM"
      }
    },
    {
      "cell_type": "markdown",
      "source": [
        "https://www.kaggle.com/datasets/thedevastator/global-species-abundance-and-diversity"
      ],
      "metadata": {
        "id": "3L4UeiLQnzck"
      }
    }
  ]
}