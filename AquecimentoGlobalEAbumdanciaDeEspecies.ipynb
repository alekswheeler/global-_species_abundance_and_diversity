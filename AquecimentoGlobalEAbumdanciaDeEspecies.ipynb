{
  "nbformat": 4,
  "nbformat_minor": 0,
  "metadata": {
    "colab": {
      "provenance": [],
      "gpuType": "T4",
      "toc_visible": true,
      "include_colab_link": true
    },
    "kernelspec": {
      "name": "python3",
      "display_name": "Python 3"
    },
    "language_info": {
      "name": "python"
    },
    "accelerator": "GPU"
  },
  "cells": [
    {
      "cell_type": "markdown",
      "metadata": {
        "id": "view-in-github",
        "colab_type": "text"
      },
      "source": [
        "<a href=\"https://colab.research.google.com/github/alekswheeler/global-_species_abundance_and_diversity/blob/main/AquecimentoGlobalEAbumdanciaDeEspecies.ipynb\" target=\"_parent\"><img src=\"https://colab.research.google.com/assets/colab-badge.svg\" alt=\"Open In Colab\"/></a>"
      ]
    },
    {
      "cell_type": "markdown",
      "source": [
        "# Introdução"
      ],
      "metadata": {
        "id": "9_UcW8U0nmCw"
      }
    },
    {
      "cell_type": "markdown",
      "source": [
        "## Definição do problema"
      ],
      "metadata": {
        "id": "a0GdbM7VmyRP"
      }
    },
    {
      "cell_type": "markdown",
      "source": [
        "## Descrição do conjunto de dados"
      ],
      "metadata": {
        "id": "9f4M2l-nnwxo"
      }
    },
    {
      "cell_type": "code",
      "source": [
        "pip install pygbif"
      ],
      "metadata": {
        "id": "_a5xtXoaeR6e"
      },
      "execution_count": null,
      "outputs": []
    },
    {
      "cell_type": "markdown",
      "source": [
        "Variáveis utilizadas na análise do artigo *“Estimating Extinction Risks with Species Occurrence Data from the Global Biodiversity Information Facility”* (Dasgupta, Blankespoor e Wheeler, 2024).  \n",
        "\n",
        "As variáveis analisadas incluem:  \n",
        "\n",
        "- **Espécies:**  \n",
        "  - **species:** espécies com dados de ocorrência no GBIF.  \n",
        "  - **d_assignedrisk:** indicação se a espécie está listada na Lista Vermelha da IUCN (1 para sim, 0 para não).  \n",
        "\n",
        "- **Ameaças:** fatores que influenciam o risco de extinção, como:  \n",
        "  - **parkpct:** índice de proteção formal, calculado com base na presença da espécie em áreas protegidas.  \n",
        "  - **popdens:** densidade populacional, medida em um raster espacial dividido em 15 grupos.  \n",
        "  - **eezpct:** percentual da área de ocorrência da espécie dentro de Zonas Econômicas Exclusivas (EEZ).  \n",
        "  - **popshadow:** influência populacional costeira, baseada na projeção de dados terrestres sobre áreas marítimas.  \n",
        "  - **totfishing:** intensidade total da pesca, estimada por monitoramento via satélite e sistemas AIS.  \n",
        "  - **natfishing:** intensidade da pesca considerando impactos ambientais, calculada a partir de imagens de satélite.  \n",
        "  - **pthreat:** índice de probabilidade de ameaça, variando de 0 a 100.  \n",
        "  - **popgroupmax:** grupo máximo de densidade populacional, classificado em uma escala de 1 a 15.  \n",
        "\n",
        "O estudo utiliza dados de diversas fontes, incluindo a IUCN, Global Fishing Watch e bases de dados espaciais, para estimar riscos de extinção com base na ocorrência das espécies."
      ],
      "metadata": {
        "id": "-iLbWIpu3P9K"
      }
    },
    {
      "cell_type": "markdown",
      "source": [
        "Por conta do tamanho do conjunto de dados a importaçao é feita buscando o dado diretamente em algum serviço de armazenamento"
      ],
      "metadata": {
        "id": "TLX8muLReUHU"
      }
    },
    {
      "cell_type": "code",
      "source": [
        "import os\n",
        "import zipfile\n",
        "import requests\n",
        "\n",
        "# 🔗 URL do Dropbox (modificada para permitir download direto)\n",
        "dropbox_url = \"https://www.dropbox.com/scl/fi/uanikg1a1jklpjyzl5j0x/global_biod_species_extinction_risks.zip?rlkey=fmb0q5n8tth1cvw9rt93a25n4&e=2&st=8iex1p7w&dl=1\"\n",
        "\n",
        "# 📂 Nome do arquivo ZIP localmente no Colab\n",
        "zip_path = \"dataset.zip\"\n",
        "\n",
        "# ⬇️ Baixa o arquivo ZIP do Dropbox\n",
        "response = requests.get(dropbox_url)\n",
        "with open(zip_path, \"wb\") as f:\n",
        "    f.write(response.content)\n",
        "\n",
        "print(\"✅ Download concluído!\")\n",
        "\n",
        "# 📂 Pasta de extração\n",
        "extract_folder = \"/content/dataset_csvs\"\n",
        "os.makedirs(extract_folder, exist_ok=True)\n",
        "\n",
        "# 🔄 Extrai todos os arquivos CSV do ZIP\n",
        "with zipfile.ZipFile(zip_path, \"r\") as zip_ref:\n",
        "    zip_ref.extractall(extract_folder)\n",
        "\n",
        "# 🔍 Lista os arquivos extraídos\n",
        "csv_files = [f for f in os.listdir(extract_folder) if f.endswith(\".csv\")]\n",
        "\n",
        "print(\"\\n📂 Arquivos CSV extraídos:\")\n",
        "for file in csv_files:\n",
        "    print(f\"- {file}\")\n",
        "\n",
        "print(\"\\n✅ Extração concluída! Todos os CSVs estão em:\", extract_folder)\n"
      ],
      "metadata": {
        "id": "hewOunE7rh4I",
        "outputId": "b25144db-21a1-4522-b317-99824b4a1f8d",
        "colab": {
          "base_uri": "https://localhost:8080/"
        }
      },
      "execution_count": 7,
      "outputs": [
        {
          "output_type": "stream",
          "name": "stdout",
          "text": [
            "✅ Download concluído!\n",
            "\n",
            "📂 Arquivos CSV extraídos:\n",
            "- global_biod_species_extinction_risks.csv\n",
            "\n",
            "✅ Extração concluída! Todos os CSVs estão em: /content/dataset_csvs\n"
          ]
        }
      ]
    },
    {
      "cell_type": "markdown",
      "source": [
        "Como o conjunto original tem muitos dados, optamos por escolher aleatoriamente alguns dados do conjunto original para fazer a análise. Não é possível estratitificar essa escolha considerando a classe pois o conjunto original não tem essas informações apenas o ID de cada espécie."
      ],
      "metadata": {
        "id": "wOasMzcZUxyl"
      }
    },
    {
      "cell_type": "code",
      "source": [
        "import pandas as pd\n",
        "\n",
        "SEED = 1234\n",
        "\n",
        "df = pd.read_csv(\"/content/dataset_csvs/global_biod_species_extinction_risks.csv\")\n",
        "\n",
        "df = df.sample(n=500, random_state=SEED)\n",
        "\n",
        "df.info()"
      ],
      "metadata": {
        "id": "vm7W9Tv8YSUH",
        "outputId": "dca6b375-4981-4fb8-918e-9f86c9852ba8",
        "colab": {
          "base_uri": "https://localhost:8080/"
        },
        "collapsed": true
      },
      "execution_count": 8,
      "outputs": [
        {
          "output_type": "stream",
          "name": "stdout",
          "text": [
            "<class 'pandas.core.frame.DataFrame'>\n",
            "Index: 500 entries, 15393 to 32079\n",
            "Data columns (total 11 columns):\n",
            " #   Column          Non-Null Count  Dtype  \n",
            "---  ------          --------------  -----  \n",
            " 0   species         500 non-null    object \n",
            " 1   parkpct         500 non-null    float64\n",
            " 2   popden          466 non-null    float64\n",
            " 3   eezpct          127 non-null    float64\n",
            " 4   popshadow       127 non-null    float64\n",
            " 5   totfishing      127 non-null    float64\n",
            " 6   natfishing      124 non-null    float64\n",
            " 7   popgroupmax     490 non-null    float64\n",
            " 8   pthreat         500 non-null    float64\n",
            " 9   d_assignedrisk  500 non-null    float64\n",
            " 10  lcat            500 non-null    object \n",
            "dtypes: float64(9), object(2)\n",
            "memory usage: 46.9+ KB\n"
          ]
        }
      ]
    },
    {
      "cell_type": "markdown",
      "source": [
        "Adicionando as features de Class, kingdom e [IUCNRedListCategory](https://en.wikipedia.org/wiki/IUCN_Red_List#Categories) que basicamente indica qual o estado de conservaçao das espécies.\n",
        "\n",
        "- **Extinto (EX)** – para além de qualquer dúvida razoável de que a espécie já não existe.\n",
        "- **Extinto na natureza (EW)** – sobrevive apenas em cativeiro, cultivo e/ou fora da área de distribuição nativa, como presumido após inquéritos exaustivos.\n",
        "- **Criticamente ameaçada (CR)** – num estado particularmente e extremamente crítico.\n",
        "- **Ameaçado (EN)** – risco muito elevado de extinção na natureza, satisfaz qualquer um dos critérios A a E para a extinção em perigo.\n",
        "- **Vulnerável (VU)** – cumpre um dos 5 critérios da Lista Vermelha e, por conseguinte, é considerada como estando em elevado risco de extinção não natural (causada pelo homem) sem intervenção humana adicional.\n",
        "- **Quase Ameaçado (NT)** – perto de estar em perigo num futuro próximo.\n",
        "- **Menor Risco (LR)** – é improvável que se torne ameaçada ou extinta num futuro próximo.\n",
        "- **Dados Deficientes (DD)**\n",
        "- **Não Avaliado (NE)**"
      ],
      "metadata": {
        "id": "eGB5H5o3U6o4"
      }
    },
    {
      "cell_type": "code",
      "source": [
        "import requests\n",
        "import pandas as pd\n",
        "\n",
        "def get_species_info(scientific_name):\n",
        "    url = f\"https://api.gbif.org/v1/species/match?scientificName={scientific_name}\"\n",
        "    response = requests.get(url)\n",
        "\n",
        "    if response.status_code == 200:\n",
        "        data = response.json()\n",
        "        return data.get(\"usageKey\"), data.get(\"class\"), data.get(\"kingdom\")\n",
        "    else:\n",
        "        print(f\"Erro ao buscar dados para {scientific_name}: {response.status_code}\")\n",
        "        return None, None, None\n",
        "\n",
        "def get_iucn_category(usage_key):\n",
        "    url = f\"https://api.gbif.org/v1/species/{usage_key}/iucnRedListCategory\"\n",
        "    response = requests.get(url)\n",
        "\n",
        "    if response.status_code == 200:\n",
        "        data = response.json()\n",
        "        return data.get(\"category\")\n",
        "    else:\n",
        "        print(f\"Erro ao buscar categoria IUCN para usageKey {usage_key}: {response.status_code}\")\n",
        "        return None\n",
        "\n",
        "def enrich_dataframe(df):\n",
        "    df[\"Class\"] = None\n",
        "    df[\"Kingdom\"] = None\n",
        "    df[\"IUCNRedListCategory\"] = None\n",
        "\n",
        "    for index, row in df.iterrows():\n",
        "        usage_key, class_name, kingdom = get_species_info(row[\"species\"])\n",
        "        df.at[index, \"Class\"] = class_name\n",
        "        df.at[index, \"Kingdom\"] = kingdom\n",
        "\n",
        "        if usage_key:\n",
        "            iucn_category = get_iucn_category(usage_key)\n",
        "            df.at[index, \"IUCNRedListCategory\"] = iucn_category\n",
        "\n",
        "    return df\n",
        "\n",
        "df = enrich_dataframe(df)"
      ],
      "metadata": {
        "id": "QAgut6_pZp1j",
        "outputId": "36f3bbcd-3144-446d-d1de-8cfb401370e8",
        "colab": {
          "base_uri": "https://localhost:8080/"
        }
      },
      "execution_count": 14,
      "outputs": [
        {
          "output_type": "stream",
          "name": "stdout",
          "text": [
            "Erro ao buscar categoria IUCN para usageKey 2303687: 204\n",
            "<class 'pandas.core.frame.DataFrame'>\n",
            "Index: 500 entries, 15393 to 32079\n",
            "Data columns (total 14 columns):\n",
            " #   Column               Non-Null Count  Dtype  \n",
            "---  ------               --------------  -----  \n",
            " 0   species              500 non-null    object \n",
            " 1   parkpct              500 non-null    float64\n",
            " 2   popden               466 non-null    float64\n",
            " 3   eezpct               127 non-null    float64\n",
            " 4   popshadow            127 non-null    float64\n",
            " 5   totfishing           127 non-null    float64\n",
            " 6   natfishing           124 non-null    float64\n",
            " 7   popgroupmax          490 non-null    float64\n",
            " 8   pthreat              500 non-null    float64\n",
            " 9   d_assignedrisk       500 non-null    float64\n",
            " 10  lcat                 500 non-null    object \n",
            " 11  Class                483 non-null    object \n",
            " 12  Kingdom              499 non-null    object \n",
            " 13  IUCNRedListCategory  498 non-null    object \n",
            "dtypes: float64(9), object(5)\n",
            "memory usage: 74.8+ KB\n"
          ]
        }
      ]
    },
    {
      "cell_type": "markdown",
      "source": [
        "Como é possível ver no gráfico abaixo muitas espécies não possuem uma categoria definida. Além disso algumas das categorias podem ser agrupadas para facilitar o agrupamento."
      ],
      "metadata": {
        "id": "Db7beIopgfoU"
      }
    },
    {
      "cell_type": "code",
      "source": [
        "import pandas as pd\n",
        "import matplotlib.pyplot as plt\n",
        "\n",
        "def plot_iucn_distribution(df):\n",
        "    plt.figure(figsize=(10, 6))\n",
        "    df[\"IUCNRedListCategory\"].value_counts().plot(kind='bar', color='skyblue', edgecolor='black')\n",
        "    plt.xlabel(\"IUCN Red List Category\")\n",
        "    plt.ylabel(\"Number of Species\")\n",
        "    plt.title(\"Distribution of Species by IUCN Red List Category\")\n",
        "    plt.xticks(rotation=45)\n",
        "    plt.grid(axis='y', linestyle='--', alpha=0.7)\n",
        "    plt.show()\n",
        "\n",
        "plot_iucn_distribution(df)"
      ],
      "metadata": {
        "id": "FrZvJPIlb9hL",
        "outputId": "4fae0b0d-51f6-49cc-9435-0a17f6255658",
        "colab": {
          "base_uri": "https://localhost:8080/",
          "height": 689
        }
      },
      "execution_count": 19,
      "outputs": [
        {
          "output_type": "display_data",
          "data": {
            "text/plain": [
              "<Figure size 1000x600 with 1 Axes>"
            ],
            "image/png": "[encoded data removed]"
          },
          "metadata": {}
        }
      ]
    },
    {
      "cell_type": "code",
      "source": [
        "# import pandas as pd\n",
        "# import requests\n",
        "# import time\n",
        "# from pygbif import species\n",
        "\n",
        "# # def get_class_from_api(scientific_name):\n",
        "# #     url = f\"https://api.gbif.org/v1/species/match?scientificName={scientific_name}\"\n",
        "# #     response = requests.get(url)\n",
        "# #     if response.status_code == 200:\n",
        "# #         data = response.json()\n",
        "# #         return data.get(\"class\", \"Unknown\")\n",
        "# #     return \"Unknown\"\n",
        "\n",
        "# def get_class_from_pygbif(scientific_name):\n",
        "#     result = species.name_backbone(name=scientific_name, verbose=False, strict=True, limit=2)\n",
        "#     return result.get(\"class\", \"Unknown\")\n",
        "\n",
        "# def get_extinct_status(scientific_name):\n",
        "#     result = species.name_lookup(q=scientific_name, verbose=False, limit=1)\n",
        "#     if \"results\" in result and result[\"results\"]:\n",
        "#         return 1 if result[\"results\"][0].get(\"extinct\", False) else 0\n",
        "#     return 0\n",
        "\n",
        "# # Adicionando a coluna 'class' com os dados da API GBIF e pygbif\n",
        "# df[\"class\"] = df[\"species\"].apply(lambda x: get_class_from_pygbif(x))\n",
        "\n",
        "# # Adicionando a coluna 'extinct'\n",
        "# df[\"extinct\"] = df[\"species\"].apply(lambda x: get_extinct_status(x))"
      ],
      "metadata": {
        "id": "KXQ4KuzZ9lDd"
      },
      "execution_count": 11,
      "outputs": []
    },
    {
      "cell_type": "markdown",
      "source": [
        "## Filtrar para tratar o problema em apenas algumas classes (e.g animalia) ??"
      ],
      "metadata": {
        "id": "4wpbrLV5VC8D"
      }
    },
    {
      "cell_type": "code",
      "source": [
        "# classes_visiveis = [\n",
        "#     'Mammalia', 'Aves', 'Reptilia', 'Amphibia', 'Actinopterygii', 'Chondrichthyes',\n",
        "#     'Insecta', 'Arachnida', 'Malacostraca'\n",
        "# ]\n",
        "\n",
        "# df_animais = df[df['species'].isin(classes_visiveis)]\n",
        "# df_animais.info()"
      ],
      "metadata": {
        "collapsed": true,
        "id": "92cjZbrBVbWL",
        "outputId": "8b00ad60-9229-44ad-f786-db1b511e38c7",
        "colab": {
          "base_uri": "https://localhost:8080/"
        }
      },
      "execution_count": 21,
      "outputs": [
        {
          "output_type": "stream",
          "name": "stdout",
          "text": [
            "<class 'pandas.core.frame.DataFrame'>\n",
            "Index: 0 entries\n",
            "Data columns (total 14 columns):\n",
            " #   Column               Non-Null Count  Dtype  \n",
            "---  ------               --------------  -----  \n",
            " 0   species              0 non-null      object \n",
            " 1   parkpct              0 non-null      float64\n",
            " 2   popden               0 non-null      float64\n",
            " 3   eezpct               0 non-null      float64\n",
            " 4   popshadow            0 non-null      float64\n",
            " 5   totfishing           0 non-null      float64\n",
            " 6   natfishing           0 non-null      float64\n",
            " 7   popgroupmax          0 non-null      float64\n",
            " 8   pthreat              0 non-null      float64\n",
            " 9   d_assignedrisk       0 non-null      float64\n",
            " 10  lcat                 0 non-null      object \n",
            " 11  Class                0 non-null      object \n",
            " 12  Kingdom              0 non-null      object \n",
            " 13  IUCNRedListCategory  0 non-null      object \n",
            "dtypes: float64(9), object(5)\n",
            "memory usage: 0.0+ bytes\n"
          ]
        }
      ]
    },
    {
      "cell_type": "code",
      "source": [
        "plot_iucn_distribution(df)"
      ],
      "metadata": {
        "id": "KKb30_JdihhK"
      },
      "execution_count": null,
      "outputs": []
    },
    {
      "cell_type": "markdown",
      "source": [
        "# Metodologia"
      ],
      "metadata": {
        "id": "aneFL7LaoJWS"
      }
    },
    {
      "cell_type": "code",
      "source": [
        "import pandas as pd\n",
        "import seaborn as sns\n",
        "import matplotlib.pyplot as plt\n",
        "from scipy.cluster.hierarchy import dendrogram, linkage\n",
        "from sklearn.cluster import DBSCAN\n",
        "\n",
        "colunas_para_remover = ['species', 'lcat', 'class']  # Substitua pelos nomes reais das colunas\n",
        "df_dbscan = df.drop(columns=colunas_para_remover)\n",
        "\n",
        "# removendo NaN\n",
        "# Lista das colunas numéricas com valores NaN\n",
        "colunas_com_nan = ['parkpct', 'popden', 'eezpct', 'popshadow', 'totfishing',\n",
        "                   'natfishing', 'popgroupmax', 'pthreat', 'd_assignedrisk']\n",
        "\n",
        "# Preenchendo os NaN com a média da respectiva coluna\n",
        "for coluna in colunas_com_nan:\n",
        "    df_dbscan[coluna] = df_dbscan[coluna].fillna(df_dbscan[coluna].mean())\n",
        "\n",
        "# --- 1️⃣ Criando o Dendrograma antes do clustering ---\n",
        "# plt.figure(figsize=(8, 4))\n",
        "# linked = linkage(df_dbscan[['Feature1', 'Feature2']], method='ward')\n",
        "# dendrogram(linked)\n",
        "# plt.title('Dendrograma Hierárquico')\n",
        "# plt.xlabel('Amostras')\n",
        "# plt.ylabel('Distância')\n",
        "# plt.show()\n",
        "\n",
        "# --- 2️⃣ Normalizando os dados ---\n",
        "scaler = StandardScaler()\n",
        "df_scaled = scaler.fit_transform(df_dbscan)\n",
        "\n",
        "# --- 3️⃣ Aplicando DBSCAN ---\n",
        "dbscan = DBSCAN(eps=0.5, min_samples=5)  # Ajuste os parâmetros conforme necessário\n",
        "df_dbscan['Cluster'] = dbscan.fit_predict(df_scaled)\n",
        "\n",
        "# --- 4️⃣ Visualizando os Clusters ---\n",
        "plt.figure(figsize=(8, 6))\n",
        "sns.scatterplot(x=df_dbscan['parkpct'], y=df_dbscan['pthreat'], hue=df_dbscan['Cluster'], palette='Set1', s=50)\n",
        "plt.title('DBSCAN Clustering')\n",
        "plt.legend(title='Cluster', loc='upper right')\n",
        "plt.show()\n",
        "\n",
        "# # --- 5️⃣ Identificando Outliers ---\n",
        "# outliers = df[df['Cluster'] == -1]\n",
        "# print(\"Número de outliers detectados:\", len(outliers))"
      ],
      "metadata": {
        "collapsed": true,
        "id": "vWK7kf2qd4n8"
      },
      "execution_count": null,
      "outputs": []
    },
    {
      "cell_type": "code",
      "source": [
        "import pandas as pd\n",
        "import numpy as np\n",
        "import seaborn as sns\n",
        "import matplotlib.pyplot as plt\n",
        "from scipy.cluster.hierarchy import dendrogram, linkage\n",
        "from sklearn.preprocessing import StandardScaler\n",
        "from sklearn.cluster import AgglomerativeClustering\n",
        "\n",
        "\n",
        "# --- 1️⃣ Normalizando os dados ---\n",
        "scaler = StandardScaler()\n",
        "df_scaled = scaler.fit_transform(df_dbscan)\n",
        "\n",
        "# --- 2️⃣ Calculando a ligação e criando o Dendrograma ---\n",
        "linked = linkage(df_scaled, method='ward')  # Método Ward\n",
        "\n",
        "plt.figure(figsize=(10, 6))\n",
        "dendrogram(linked)\n",
        "plt.title('Dendrograma Hierárquico')\n",
        "plt.xlabel('Amostras')\n",
        "plt.ylabel('Distância')\n",
        "plt.show()\n",
        "\n",
        "# --- 3️⃣ Aplicando o Agrupamento Hierárquico Aglomerativo ---\n",
        "# Defina o número de clusters desejado ou a distância de corte\n",
        "n_clusters = 3  # Defina o número de clusters que você deseja\n",
        "\n",
        "agg_clustering = AgglomerativeClustering(n_clusters=n_clusters, linkage='ward')\n",
        "df['Cluster'] = agg_clustering.fit_predict(df_scaled)\n",
        "\n",
        "# --- 4️⃣ Visualizando os Clusters ---\n",
        "plt.figure(figsize=(8, 6))\n",
        "sns.scatterplot(x=df_dbscan['d_assignedrisk'], y=df_dbscan['pthreat'], hue=df_dbscan['Cluster'], palette='Set1', s=50)\n",
        "plt.title('Agrupamento Hierárquico Aglomerativo')\n",
        "plt.legend(title='Cluster', loc='upper right')\n",
        "plt.show()"
      ],
      "metadata": {
        "id": "KAtB-xjFqbA7"
      },
      "execution_count": null,
      "outputs": []
    },
    {
      "cell_type": "code",
      "source": [
        "df_dbscan.info()"
      ],
      "metadata": {
        "id": "ikRrWTAJhymG"
      },
      "execution_count": null,
      "outputs": []
    },
    {
      "cell_type": "code",
      "source": [
        "# from sklearn.model_selection import StratifiedKFold, train_test_split\n",
        "# # primeiro pegar uma amostra estratificada (das classes que foram selecionadas anteriormente)\n",
        "# # Criando o objeto de divisão estratificada\n",
        "# k = 2\n",
        "# skf = StratifiedKFold(n_splits=k, shuffle=True, random_state=42)\n",
        "\n",
        "# # Pegando apenas um dos folds (exemplo: o primeiro)\n",
        "# for train_idx, test_idx in skf.split(df, df['class']):\n",
        "#     df_grupo = df.iloc[train_idx]  # Pega um grupo estratificado\n",
        "#     break  # Pegamos só o primeiro grupo, então saímos do loop\n",
        "\n",
        "# # Agora dividimos esse grupo em treino e teste (mantendo a estratificação)\n",
        "# df_train, df_test = train_test_split(df_grupo, test_size=0.2, stratify=df_grupo['class'], random_state=42)"
      ],
      "metadata": {
        "collapsed": true,
        "id": "5OW8EcmRb2jV"
      },
      "execution_count": null,
      "outputs": []
    },
    {
      "cell_type": "markdown",
      "source": [
        "**Todo**\n",
        "- ~~Adicionar região para filtrar~~\n",
        "- Adicionar classe (ou reino, ou filo) ✅\n",
        "- Adicionar variável Está extinto? ✅\n",
        "- Encontrar dados da região, dados de clima\n",
        "- Criar csv co esses dados\n",
        "\n",
        "**Doing**\n",
        "- Classificar os dados sem as classes\n",
        "- Entender a distribuiçao dos dados\n",
        "\n",
        "**Done**\n",
        "- Encontrar como adicionar classe (ou reino, ou filo)\n"
      ],
      "metadata": {
        "id": "T0qRZedhnVIe"
      }
    },
    {
      "cell_type": "markdown",
      "source": [
        "## Pré processamento"
      ],
      "metadata": {
        "id": "mb3i9KOel7bb"
      }
    },
    {
      "cell_type": "markdown",
      "source": [
        "## Visualização de dados"
      ],
      "metadata": {
        "id": "6lUTc5hol_8Z"
      }
    },
    {
      "cell_type": "markdown",
      "source": [
        "## Classificação"
      ],
      "metadata": {
        "id": "fQPxKRMTmMRD"
      }
    },
    {
      "cell_type": "markdown",
      "source": [
        "# Conclusão"
      ],
      "metadata": {
        "id": "2tjMqPnQo2UP"
      }
    },
    {
      "cell_type": "markdown",
      "source": [
        "## Discussãocação dos Resultados"
      ],
      "metadata": {
        "id": "scwWzZANmIZk"
      }
    },
    {
      "cell_type": "markdown",
      "source": [
        "# Video\n",
        "\n",
        "\n",
        "Um vídeo (de aproximadamente 5 minutos) descrevendo o trabalho e os resultados. Pretendo divulgar esse vídeo para os demais colegas da disciplina e para os professores do DI. **Os vídeos são apenas para facilitar a correção e não serão publicados!**"
      ],
      "metadata": {
        "id": "WmHK-4E8nJWG"
      }
    },
    {
      "cell_type": "markdown",
      "source": [
        "# Referências"
      ],
      "metadata": {
        "id": "cSZZsRj0nvHM"
      }
    },
    {
      "cell_type": "markdown",
      "source": [
        "https://techdocs.gbif.org/en/openapi/\n",
        "\n",
        "https://datacatalog.worldbank.org/search/dataset/0066034/Global-Biodiversity-Data"
      ],
      "metadata": {
        "id": "3L4UeiLQnzck"
      }
    }
  ]
}